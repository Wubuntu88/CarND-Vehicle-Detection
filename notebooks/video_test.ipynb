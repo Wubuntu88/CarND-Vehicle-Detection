{
 "cells": [
  {
   "cell_type": "code",
   "execution_count": 1,
   "metadata": {
    "collapsed": true
   },
   "outputs": [],
   "source": [
    "import sys\n",
    "sys.path.insert(0,'../')"
   ]
  },
  {
   "cell_type": "code",
   "execution_count": 2,
   "metadata": {
    "collapsed": true
   },
   "outputs": [],
   "source": [
    "# Import everything needed to edit/save/watch video clips\n",
    "from moviepy.editor import VideoFileClip\n",
    "from IPython.display import HTML\n",
    "import numpy as np\n",
    "import matplotlib.image as mpimg\n",
    "import matplotlib.pyplot as plt\n",
    "import matplotlib.patches as mpatches\n",
    "import cv2\n",
    "from pylab import rcParams\n",
    "rcParams['figure.figsize'] = 9, 5\n",
    "# %matplotlib inline\n",
    "from sklearn.externals import joblib\n",
    "import windowing.windower as w\n",
    "import filtering.filter as f\n",
    "import filtering.history as h\n",
    "from scipy.ndimage.measurements import label"
   ]
  },
  {
   "cell_type": "code",
   "execution_count": 3,
   "metadata": {
    "collapsed": true
   },
   "outputs": [],
   "source": [
    "windows_inited = False\n",
    "def draw_windows(rgb_image):\n",
    "    global windows_inited\n",
    "    global small_windows\n",
    "    global medium_windows\n",
    "    global large_windows\n",
    "    global history\n",
    "    if not windows_inited:\n",
    "        small_windows = w.slide_window(img=rgb_image, xy_window=[64, 64], y_start_stop=[400, 496], xy_overlap=[0.85, 0.85])\n",
    "        medium_windows = w.slide_window(img=rgb_image, xy_window=[96, 96], y_start_stop=[400, 592], xy_overlap=[0.65, 0.65])\n",
    "        large_windows = w.slide_window(img=rgb_image, xy_window=[128, 128], y_start_stop=[400, 680], xy_overlap=[0.65, 0.65])\n",
    "        windows_inited = True\n",
    "    triggered_windows_small = w.search_windows(img=rgb_image, windows=small_windows, classifier=svc, scaler=x_scaler)\n",
    "    triggered_windows_medium = w.search_windows(img=rgb_image, windows=medium_windows, classifier=svc, scaler=x_scaler)\n",
    "    triggered_windows_large = w.search_windows(img=rgb_image, windows=large_windows, classifier=svc, scaler=x_scaler)\n",
    "    \n",
    "    all_windows = []\n",
    "    all_windows.extend(triggered_windows_small)\n",
    "    all_windows.extend(triggered_windows_medium)\n",
    "    all_windows.extend(triggered_windows_large)\n",
    "\n",
    "    labels = f.filter_windows(rgb_image=rgb_image, windows=all_windows, history=history)\n",
    "    image_copy = np.copy(rgb_image)\n",
    "    if labels[1] > 0:\n",
    "        f.draw_labeled_bboxes(img=image_copy, labels=labels)\n",
    "    return image_copy"
   ]
  },
  {
   "cell_type": "code",
   "execution_count": 4,
   "metadata": {
    "collapsed": true
   },
   "outputs": [],
   "source": [
    "svc = joblib.load('../saved_models/svc_rgb_all.pkl')\n",
    "x_scaler = joblib.load('../saved_models/x_scaler_rgb_all.pkl')"
   ]
  },
  {
   "cell_type": "code",
   "execution_count": 5,
   "metadata": {},
   "outputs": [
    {
     "name": "stdout",
     "output_type": "stream",
     "text": [
      "[MoviePy] >>>> Building video ../output_videos/test/project_video_avg_heat_maping_5_frames_with_small_windows_.65_to_.85_overlap_pred_conf_thresh=0.65_no_centroid.mp4\n",
      "[MoviePy] Writing video ../output_videos/test/project_video_avg_heat_maping_5_frames_with_small_windows_.65_to_.85_overlap_pred_conf_thresh=0.65_no_centroid.mp4\n"
     ]
    },
    {
     "name": "stderr",
     "output_type": "stream",
     "text": [
      "100%|█████████▉| 1260/1261 [1:31:12<00:03,  3.56s/it] \n"
     ]
    },
    {
     "name": "stdout",
     "output_type": "stream",
     "text": [
      "[MoviePy] Done.\n",
      "[MoviePy] >>>> Video ready: ../output_videos/test/project_video_avg_heat_maping_5_frames_with_small_windows_.65_to_.85_overlap_pred_conf_thresh=0.65_no_centroid.mp4 \n",
      "\n",
      "CPU times: user 1h 11min 38s, sys: 13.3 s, total: 1h 11min 52s\n",
      "Wall time: 1h 31min 13s\n"
     ]
    }
   ],
   "source": [
    "history = h.History(n_frames=5)\n",
    "project_video_name = \"project_video.mp4\"\n",
    "dest_video_name = \"project_video_avg_heat_maping_5_frames_with_small_windows_.65_to_.85_overlap_pred_conf_thresh=0.65_no_centroid.mp4\"\n",
    "save_file_name = '../output_videos/test/' + dest_video_name\n",
    "src_video_name = \"../test_videos/\" + project_video_name\n",
    "clip1 = VideoFileClip(src_video_name)\n",
    "srl_clip = clip1.fl_image(draw_windows)\n",
    "%time srl_clip.write_videofile(save_file_name, audio=False)"
   ]
  }
 ],
 "metadata": {
  "kernelspec": {
   "display_name": "Python [conda env:carnd-term1]",
   "language": "python",
   "name": "conda-env-carnd-term1-py"
  },
  "language_info": {
   "codemirror_mode": {
    "name": "ipython",
    "version": 3
   },
   "file_extension": ".py",
   "mimetype": "text/x-python",
   "name": "python",
   "nbconvert_exporter": "python",
   "pygments_lexer": "ipython3",
   "version": "3.5.2"
  }
 },
 "nbformat": 4,
 "nbformat_minor": 2
}
